{
 "cells": [
  {
   "cell_type": "markdown",
   "id": "cf7e5cf9-a407-4462-891b-4becdecf5c3b",
   "metadata": {},
   "source": [
    "This notebook helps with annotating the data: creating references summaries.\n",
    "It sort out entities with less than 4 reviews and picks random ones for annotations. "
   ]
  },
  {
   "cell_type": "code",
   "execution_count": 101,
   "id": "0b653ca2-9c7f-4235-ba82-83cbadeeb3cb",
   "metadata": {},
   "outputs": [],
   "source": [
    "import pandas as pd\n",
    "import numpy as np\n",
    "import json\n",
    "from nltk.tokenize import word_tokenize\n",
    "import random\n",
    "import os.path\n",
    "import ipywidgets as widgets"
   ]
  },
  {
   "cell_type": "code",
   "execution_count": 102,
   "id": "499f2558-7549-45d2-adb5-6770e9c6a7fb",
   "metadata": {},
   "outputs": [],
   "source": [
    "data_location = \"/Users/soid/Dropbox/Code/2020/columbia-catalog-data\"\n",
    "instructors_file = data_location + '/instructors/instructors.json'\n",
    "dataset_file       = \"/Users/soid/Dropbox/Code/2022/nlg-project/CuSum/culpa.json\"\n",
    "dataset_file_jsonl = \"/Users/soid/Dropbox/Code/2022/nlg-project/CuSum/culpa.jsonl\"\n",
    "dataset_test_json = \"/Users/soid/Dropbox/Code/2022/nlg-project/CuSum/culpa.test.json\"\n",
    "dataset_test_jsonl = \"/Users/soid/Dropbox/Code/2022/nlg-project/CuSum/culpa.test.jsonl\""
   ]
  },
  {
   "cell_type": "code",
   "execution_count": 103,
   "id": "05e44a29-15d5-41fb-8c9e-47fa766a9247",
   "metadata": {},
   "outputs": [],
   "source": [
    "# read instructors list from columbia-catalog-data\n",
    "f = open(instructors_file, 'r')\n",
    "body = f.read()\n",
    "f.close()\n",
    "instructors = json.loads(body)"
   ]
  },
  {
   "cell_type": "code",
   "execution_count": 104,
   "id": "029a3b26-e6ff-423d-b537-b324fd8640db",
   "metadata": {},
   "outputs": [],
   "source": [
    "# read created references: name -> row that includes summary\n",
    "references = {}  # list of names\n",
    "if os.path.exists(dataset_test_jsonl):\n",
    "    f = open(dataset_test_jsonl, 'r')\n",
    "    for line in f.readlines():\n",
    "        row = json.loads(line)\n",
    "        references[row['name']] = row\n",
    "    f.close()"
   ]
  },
  {
   "cell_type": "code",
   "execution_count": 105,
   "id": "f1bbed0b-3a43-433c-9eb0-5e9b8cf45c81",
   "metadata": {},
   "outputs": [],
   "source": [
    "# process columbia-catalog-data\n",
    "min_reviews_threshold = 1\n",
    "result = []\n",
    "for row in instructors:\n",
    "    out_instr = {}\n",
    "    out_instr['name'] = row['name']\n",
    "    out_instr['reviews'] = []\n",
    "    if not row['culpa_reviews']:\n",
    "        continue\n",
    "    for r in row['culpa_reviews']:\n",
    "        text = r['text']\n",
    "        # if r['workload']:\n",
    "        #     text += \". Workload: \" + r['workload']\n",
    "        text = text.lower()\n",
    "#        text = \" \".join(word_tokenize(text))\n",
    "        \n",
    "        out_instr['reviews'].append(text)\n",
    "    if len(out_instr['reviews']) >= min_reviews_threshold:\n",
    "        result.append(out_instr)\n"
   ]
  },
  {
   "cell_type": "code",
   "execution_count": 106,
   "id": "f14b2c5f-e5b6-4fd4-a39f-11c9c45ab841",
   "metadata": {},
   "outputs": [],
   "source": [
    "# filter out references from training data\n",
    "def filter_referenced(result, references):\n",
    "    for name in references.keys():\n",
    "        rv = filter(lambda x: x['name'] == name, result)\n",
    "        rv = next(rv, None)\n",
    "        if rv:\n",
    "            references[name]['reviews'] = rv['reviews']\n",
    "    result = [row for row in result if row['name'] not in references.keys()]\n",
    "    \n",
    "    return result\n",
    "result = filter_referenced(result, references)"
   ]
  },
  {
   "cell_type": "code",
   "execution_count": 107,
   "id": "54296f3c-1ecc-48ae-bb59-b6572c30f7ee",
   "metadata": {},
   "outputs": [
    {
     "name": "stdout",
     "output_type": "stream",
     "text": [
      "name: Lauren E Ninoshvili\n",
      "URL: https://peqod.com/prof/Lauren_E_Ninoshvili\n",
      "Total references so far: 30\n"
     ]
    },
    {
     "data": {
      "application/vnd.jupyter.widget-view+json": {
       "model_id": "0da4f29849a149de85b9e1602a3e19c4",
       "version_major": 2,
       "version_minor": 0
      },
      "text/plain": [
       "VBox(children=(Textarea(value='', description='Reference:', layout=Layout(width='80%'), placeholder='Type refe…"
      ]
     },
     "metadata": {},
     "output_type": "display_data"
    }
   ],
   "source": [
    "name = None\n",
    "# uncomment to edit specific name\n",
    "# name = \"Lauren E Robertson\"\n",
    "edit_summary = 0  # TODO support editing multiple summaries\n",
    "\n",
    "if name:\n",
    "    if name in references.keys():\n",
    "        selected_row = references[name]\n",
    "    else:\n",
    "        selected_row = next(filter(lambda x: x['name'] == name, result))\n",
    "else:\n",
    "    # draw random professor for writing reference review\n",
    "    selection = [rv for rv in result if len(rv['reviews']) >=4]\n",
    "    selected_row = random.choice(selection)\n",
    "    name = selected_row['name']\n",
    "print(\"name:\", name)\n",
    "print(\"URL:\", \"https://peqod.com/prof/\" + name.replace(\" \", \"_\"))\n",
    "\n",
    "ref = \"\"\n",
    "if name in references.keys():\n",
    "    ref = references[name]['summary']\n",
    "    if len(ref) > 1:\n",
    "        print(\"Name\", name, \"has more than one reference\")\n",
    "    ref = ref[edit_summary]\n",
    "\n",
    "textarea = widgets.Textarea(\n",
    "    value=ref,\n",
    "    placeholder='Type reference summary for above professor %s' % name,\n",
    "    description='Reference:',\n",
    "    rows=5, layout={'width': '80%'},\n",
    "    disabled=False\n",
    ")\n",
    "btn = widgets.Button(\n",
    "    description='Submit',\n",
    "    disabled=False\n",
    ")\n",
    "output = widgets.Output()\n",
    "print(\"Total references so far:\", len(references))\n",
    "\n",
    "def on_button_clicked(b):\n",
    "    references[name] = selected_row\n",
    "    references[name]['summary'] = []\n",
    "    references[name]['summary'].append(textarea.value)\n",
    "    \n",
    "    # save json per line\n",
    "    f = open(dataset_test_jsonl, \"w\")\n",
    "    i = 0\n",
    "    for row in references.values():\n",
    "        f.write(json.dumps(row) + \"\\n\")\n",
    "        i += 1\n",
    "    f.close()\n",
    "    \n",
    "    with output:\n",
    "        print(\"Reference created. Total:\", i)\n",
    "\n",
    "btn.on_click(on_button_clicked)\n",
    "widgets.VBox([textarea, btn, output])\n"
   ]
  },
  {
   "cell_type": "code",
   "execution_count": 98,
   "id": "1a623a66-8c70-4638-8fb1-7587c90ec2e7",
   "metadata": {},
   "outputs": [],
   "source": [
    "# filter out referenced profs\n",
    "result = filter_referenced(result, references)\n",
    "\n",
    "# save pretty json\n",
    "b = json.dumps(result, indent=2)\n",
    "f = open(dataset_file, \"w\")\n",
    "f.write(b)\n",
    "f.close()\n",
    "\n",
    "# save json per line\n",
    "f = open(dataset_file_jsonl, \"w\")\n",
    "for obj in result:\n",
    "    f.write(json.dumps(obj) + \"\\n\")\n",
    "f.close()\n",
    "\n",
    "# save references as json\n",
    "b = json.dumps(list(references.values()))\n",
    "f = open(dataset_test_json, \"w\")\n",
    "f.write(b)\n",
    "f.close()\n",
    "\n",
    "# save json per line\n",
    "f = open(dataset_test_jsonl, \"w\")\n",
    "for row in references.values():\n",
    "    f.write(json.dumps(row) + \"\\n\")\n",
    "f.close()"
   ]
  },
  {
   "cell_type": "code",
   "execution_count": 99,
   "id": "a4ad1d3e-e8ae-4545-996a-ea4a4c08a5bf",
   "metadata": {},
   "outputs": [
    {
     "name": "stdout",
     "output_type": "stream",
     "text": [
      "Total entities for summarization: 2123\n",
      "Total reference summaries: 30\n",
      "Total reviews: 16827\n",
      "Total summaries with #reviews >= 4: 1132\n",
      "Total reviews for summaries with #reviews >= 4: 15176\n",
      "Avg tokens / review: 197.5\n"
     ]
    }
   ],
   "source": [
    "# calculate summaries\n",
    "print(\"Total entities for summarization:\", len(result))\n",
    "print(\"Total reference summaries:\", len(references.keys()))\n",
    "total_reviews = sum(len(row['reviews']) for row in result)\n",
    "print(\"Total reviews:\", total_reviews)\n",
    "\n",
    "total_sum4 = sum(1 for row in result if len(row['reviews']) >= 4)\n",
    "print(\"Total summaries with #reviews >= 4:\", total_sum4)\n",
    "total_reviews4 = sum(len(row['reviews']) for row in result if len(row['reviews']) >= 4)\n",
    "print(\"Total reviews for summaries with #reviews >= 4:\", total_reviews4)\n",
    "\n",
    "#print(\"avg tokens / summary:\", tmp / total_reviews)\n",
    "tmp = sum(len(word_tokenize(rv)) for row in result for rv in row['reviews'])\n",
    "print(\"Avg tokens / review:\", round(tmp / total_reviews, 1))\n",
    "\n"
   ]
  },
  {
   "cell_type": "code",
   "execution_count": 100,
   "id": "77696a3d-1141-4684-abcc-24cf6d88c77c",
   "metadata": {},
   "outputs": [
    {
     "name": "stdout",
     "output_type": "stream",
     "text": [
      "Vocabulary size: 45129\n"
     ]
    }
   ],
   "source": [
    "vc = set()\n",
    "for row in result:\n",
    "    for rv in row['reviews']:\n",
    "        vc.update(word_tokenize(rv))\n",
    "print(\"Vocabulary size:\", len(list(vc)))"
   ]
  },
  {
   "cell_type": "code",
   "execution_count": null,
   "id": "8ec04908-43a6-46b1-a09c-617397555fd7",
   "metadata": {},
   "outputs": [],
   "source": []
  }
 ],
 "metadata": {
  "kernelspec": {
   "display_name": "Python 3 (ipykernel)",
   "language": "python",
   "name": "python3"
  },
  "language_info": {
   "codemirror_mode": {
    "name": "ipython",
    "version": 3
   },
   "file_extension": ".py",
   "mimetype": "text/x-python",
   "name": "python",
   "nbconvert_exporter": "python",
   "pygments_lexer": "ipython3",
   "version": "3.9.15"
  }
 },
 "nbformat": 4,
 "nbformat_minor": 5
}
